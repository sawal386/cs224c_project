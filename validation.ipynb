{
 "cells": [
  {
   "cell_type": "markdown",
   "id": "5967bade",
   "metadata": {},
   "source": [
    "This notebook contains the code to validate the Distributional Quantification framework using GPT 3.5. This takes a while to run. "
   ]
  },
  {
   "cell_type": "code",
   "execution_count": 1,
   "id": "e795a305-d554-4f5a-86e1-9f9f8f40566f",
   "metadata": {},
   "outputs": [
    {
     "name": "stderr",
     "output_type": "stream",
     "text": [
      "/Users/sawal/opt/anaconda3/envs/deep_learning/lib/python3.10/site-packages/pandas/core/computation/expressions.py:21: UserWarning: Pandas requires version '2.8.4' or newer of 'numexpr' (version '2.8.3' currently installed).\n",
      "  from pandas.core.computation.check import NUMEXPR_INSTALLED\n",
      "/Users/sawal/opt/anaconda3/envs/deep_learning/lib/python3.10/site-packages/pandas/core/arrays/masked.py:61: UserWarning: Pandas requires version '1.3.6' or newer of 'bottleneck' (version '1.3.5' currently installed).\n",
      "  from pandas.core import (\n"
     ]
    }
   ],
   "source": [
    "from src.estimation import estimate_text_distribution\n",
    "from src.MLE import MLE\n",
    "import os \n",
    "import pandas as pd\n",
    "import json\n",
    "from util import *\n",
    "import numpy as np\n",
    "from tqdm import tqdm "
   ]
  },
  {
   "cell_type": "code",
   "execution_count": 2,
   "id": "a4440eae-398e-4701-b0f4-a231284ca8c1",
   "metadata": {},
   "outputs": [],
   "source": [
    "name = \"ojs_ed\"\n",
    "ai_data_21 = pd.read_parquet(f\"data/training_data/{name}/ai_data_21.parquet\")"
   ]
  },
  {
   "cell_type": "code",
   "execution_count": 3,
   "id": "25c10b52-c952-4b2e-a6fc-492708dc7ce6",
   "metadata": {},
   "outputs": [
    {
     "name": "stdout",
     "output_type": "stream",
     "text": [
      "ai_data_21 subsample: 225620 sentences\n"
     ]
    }
   ],
   "source": [
    "ai_data_21_subsample = ai_data_21.sample(frac=0.5, random_state=53)\n",
    "print(f\"ai_data_21 subsample: {ai_data_21_subsample.shape[0]} sentences\")\n",
    "ai_data_21_subsample.to_parquet(f\"data/training_data/{name}/ai_data_21_subsample.parquet\")"
   ]
  },
  {
   "cell_type": "code",
   "execution_count": 4,
   "id": "cf1495a7-33e0-47b9-98a9-0dcbba47d3ae",
   "metadata": {},
   "outputs": [
    {
     "name": "stdout",
     "output_type": "stream",
     "text": [
      "human_data_21: 212521 sentences\n"
     ]
    }
   ],
   "source": [
    "human_data_21 = pd.read_parquet(f\"data/training_data/{name}/human_data_21.parquet\")\n",
    "print(f\"human_data_21: {human_data_21.shape[0]} sentences\")"
   ]
  },
  {
   "cell_type": "code",
   "execution_count": 5,
   "id": "b632d9e1-ab8e-43ef-8e76-fd9ff236b8e2",
   "metadata": {},
   "outputs": [],
   "source": [
    "estimate_text_distribution(f\"data/training_data/{name}/human_data_21.parquet\",f\"data/training_data/{name}/ai_data_21_subsample.parquet\",\n",
    "                           f\"distribution/{name}_21.parquet\")"
   ]
  },
  {
   "cell_type": "code",
   "execution_count": 6,
   "id": "be8f6613-3a67-4248-bab9-e12ce04f1fa5",
   "metadata": {},
   "outputs": [
    {
     "name": "stdout",
     "output_type": "stream",
     "text": [
      "HUMAN EVALUATION SET\n"
     ]
    },
    {
     "name": "stderr",
     "output_type": "stream",
     "text": [
      "  9%|███▋                                     | 1/11 [09:00<1:30:09, 540.92s/it]"
     ]
    },
    {
     "name": "stdout",
     "output_type": "stream",
     "text": [
      "Ground Truth,Prediction,        CI,     Error\n",
      "     0.000,     0.060,     0.001,     0.060\n"
     ]
    },
    {
     "name": "stderr",
     "output_type": "stream",
     "text": [
      "\r",
      " 18%|███████▍                                 | 2/11 [17:45<1:19:41, 531.29s/it]"
     ]
    },
    {
     "name": "stdout",
     "output_type": "stream",
     "text": [
      "Ground Truth,Prediction,        CI,     Error\n",
      "     0.025,     0.086,     0.002,     0.061\n"
     ]
    },
    {
     "name": "stderr",
     "output_type": "stream",
     "text": [
      "\r",
      " 27%|███████████▏                             | 3/11 [26:42<1:11:12, 534.12s/it]"
     ]
    },
    {
     "name": "stdout",
     "output_type": "stream",
     "text": [
      "Ground Truth,Prediction,        CI,     Error\n",
      "     0.050,     0.110,     0.002,     0.060\n"
     ]
    },
    {
     "name": "stderr",
     "output_type": "stream",
     "text": [
      "\r",
      " 36%|██████████████▉                          | 4/11 [35:32<1:02:05, 532.15s/it]"
     ]
    },
    {
     "name": "stdout",
     "output_type": "stream",
     "text": [
      "Ground Truth,Prediction,        CI,     Error\n",
      "     0.075,     0.134,     0.002,     0.059\n"
     ]
    },
    {
     "name": "stderr",
     "output_type": "stream",
     "text": [
      "\r",
      " 45%|███████████████████▌                       | 5/11 [44:02<52:26, 524.42s/it]"
     ]
    },
    {
     "name": "stdout",
     "output_type": "stream",
     "text": [
      "Ground Truth,Prediction,        CI,     Error\n",
      "     0.100,     0.156,     0.002,     0.056\n"
     ]
    },
    {
     "name": "stderr",
     "output_type": "stream",
     "text": [
      "\r",
      " 55%|███████████████████████▍                   | 6/11 [52:35<43:22, 520.58s/it]"
     ]
    },
    {
     "name": "stdout",
     "output_type": "stream",
     "text": [
      "Ground Truth,Prediction,        CI,     Error\n",
      "     0.125,     0.178,     0.002,     0.053\n"
     ]
    },
    {
     "name": "stderr",
     "output_type": "stream",
     "text": [
      "\r",
      " 64%|██████████████████████████               | 7/11 [1:01:08<34:31, 517.91s/it]"
     ]
    },
    {
     "name": "stdout",
     "output_type": "stream",
     "text": [
      "Ground Truth,Prediction,        CI,     Error\n",
      "     0.150,     0.200,     0.002,     0.050\n"
     ]
    },
    {
     "name": "stderr",
     "output_type": "stream",
     "text": [
      "\r",
      " 73%|█████████████████████████████▊           | 8/11 [1:09:43<25:51, 517.10s/it]"
     ]
    },
    {
     "name": "stdout",
     "output_type": "stream",
     "text": [
      "Ground Truth,Prediction,        CI,     Error\n",
      "     0.175,     0.221,     0.002,     0.046\n"
     ]
    },
    {
     "name": "stderr",
     "output_type": "stream",
     "text": [
      "\r",
      " 82%|█████████████████████████████████▌       | 9/11 [1:18:05<17:04, 512.45s/it]"
     ]
    },
    {
     "name": "stdout",
     "output_type": "stream",
     "text": [
      "Ground Truth,Prediction,        CI,     Error\n",
      "     0.200,     0.243,     0.002,     0.043\n"
     ]
    },
    {
     "name": "stderr",
     "output_type": "stream",
     "text": [
      "\r",
      " 91%|████████████████████████████████████▎   | 10/11 [1:26:23<08:27, 507.72s/it]"
     ]
    },
    {
     "name": "stdout",
     "output_type": "stream",
     "text": [
      "Ground Truth,Prediction,        CI,     Error\n",
      "     0.225,     0.264,     0.002,     0.039\n"
     ]
    },
    {
     "name": "stderr",
     "output_type": "stream",
     "text": [
      "100%|████████████████████████████████████████| 11/11 [1:34:51<00:00, 517.37s/it]"
     ]
    },
    {
     "name": "stdout",
     "output_type": "stream",
     "text": [
      "Ground Truth,Prediction,        CI,     Error\n",
      "     0.250,     0.285,     0.002,     0.035\n"
     ]
    },
    {
     "name": "stderr",
     "output_type": "stream",
     "text": [
      "\n"
     ]
    }
   ],
   "source": [
    "model= MLE(f\"distribution/{name}_21.parquet\")\n",
    "print(f\"HUMAN EVALUATION SET\")\n",
    "for alpha in tqdm([0,0.025,0.05,0.075,0.1,0.125,0.15,0.175,0.2,0.225,0.25]):\n",
    "    estimated,ci=model.inference(f\"data/validation_data/{name}/ground_truth_alpha_{alpha}.parquet\")\n",
    "    error=abs(estimated-alpha)\n",
    "    print(f\"{'Ground Truth':>10},{'Prediction':>10},{'CI':>10},{'Error':>10}\")\n",
    "    print(f\"{alpha:10.3f},{estimated:10.3f},{ci:10.3f},{error:10.3f}\")"
   ]
  },
  {
   "cell_type": "code",
   "execution_count": null,
   "id": "0ce84624-0e81-4e47-9970-a45d169cfb32",
   "metadata": {},
   "outputs": [],
   "source": []
  }
 ],
 "metadata": {
  "kernelspec": {
   "display_name": "Python 3 (ipykernel)",
   "language": "python",
   "name": "python3"
  },
  "language_info": {
   "codemirror_mode": {
    "name": "ipython",
    "version": 3
   },
   "file_extension": ".py",
   "mimetype": "text/x-python",
   "name": "python",
   "nbconvert_exporter": "python",
   "pygments_lexer": "ipython3",
   "version": "3.10.4"
  }
 },
 "nbformat": 4,
 "nbformat_minor": 5
}
